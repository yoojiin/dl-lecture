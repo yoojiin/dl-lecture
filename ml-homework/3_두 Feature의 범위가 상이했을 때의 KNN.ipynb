{
 "cells": [
  {
   "cell_type": "markdown",
   "metadata": {},
   "source": [
    " ╔══<i><b>Alai-DeepLearning</b></i>════════════════════════╗\n",
    "###  &nbsp;&nbsp; **✎&nbsp;&nbsp;Week 2. Numpy Basis**\n",
    "# Homework 1. 두 Feature의 범위가 상이했을 때의, KNN\n",
    "\n",
    "### _Objective_\n",
    "1. 스스로 처음부터 끝까지 KNN 알고리즘을 구현하는 데에 집중합니다. <br>\n",
    "2. Feature들을 Normalization하는 방법을 배워봅니다. <br>\n",
    "\n",
    "╚═════════════════════════════════════╝"
   ]
  },
  {
   "cell_type": "code",
   "execution_count": 1,
   "metadata": {},
   "outputs": [],
   "source": [
    "%matplotlib inline\n",
    "import numpy as np\n",
    "\n",
    "import matplotlib.pyplot as plt"
   ]
  },
  {
   "cell_type": "markdown",
   "metadata": {},
   "source": [
    "## 예제 데이터 )  로맨스 영화 분석\n",
    "\n",
    "로맨스 영화에는 밝은 분위기의 **로맨스 코미디**와 진지한 분위기의 **로맨스 드라마**가 있습니다. 우리는 로맨스 영화를 자동으로 분류하는 분류기를 만들고자 하는데, 이 때 선정한 Feature로는 **배우가 웃는 횟수**와 **배우가 우는 횟수**가 있습니다. 우리는 이 두 Feature를 통해 자동으로 분류하는 문제를 만들고자 합니다. "
   ]
  },
  {
   "cell_type": "markdown",
   "metadata": {},
   "source": [
    "\n",
    "#### 데이터 ) 각 영화 별 웃는 횟수와 우는 횟수\n",
    "\n",
    "| 영화 제목 | the number of smile | The number of cry | Type |\n",
    "| ------  | ----| ----| --- |\n",
    "| A | 120 | 3 | comedy |\n",
    "| B | 105 | 2 | comedy |\n",
    "| C | 25 | 12 | drama |\n",
    "| D | 32 | 15 | drama |\n",
    "| E | 17 | 9  | drama |\n",
    "| F | 98 | 5  | comedy |\n",
    "| G | 130 | 1 | comedy |\n",
    "| H | 0  | 16 | drama  |\n",
    "| I | 40 | 20 | drama |"
   ]
  },
  {
   "cell_type": "code",
   "execution_count": 2,
   "metadata": {},
   "outputs": [],
   "source": [
    "dataset = np.array([\n",
    "    [120, 3],\n",
    "    [105, 2],\n",
    "    [25, 12],\n",
    "    [32, 15],\n",
    "    [17, 9],\n",
    "    [98, 5],\n",
    "    [130, 1],\n",
    "    [0, 16],\n",
    "    [40, 20],\n",
    "    [100, 10]\n",
    "])\n",
    "\n",
    "labels = np.array([\"comedy\", \"comedy\", \"drama\",\n",
    "                   \"drama\",\"drama\",\"comedy\",\"comedy\",\n",
    "                   \"drama\",\"drama\",\"comedy\"])\n"
   ]
  },
  {
   "cell_type": "code",
   "execution_count": 3,
   "metadata": {},
   "outputs": [
    {
     "data": {
      "image/png": "[encoded data removed]",
      "text/plain": [
       "<Figure size 432x288 with 1 Axes>"
      ]
     },
     "metadata": {},
     "output_type": "display_data"
    }
   ],
   "source": [
    "plt.title(\"The Category of Movie\")\n",
    "plt.scatter(dataset[labels==\"comedy\",0],dataset[labels==\"comedy\",1],\n",
    "            label='comedy', c='g')\n",
    "plt.scatter(dataset[labels==\"drama\",0],dataset[labels==\"drama\",1],\n",
    "            label='drama', c='r')\n",
    "\n",
    "plt.xlim(-10,140)\n",
    "plt.ylim(-10,40)\n",
    "\n",
    "plt.xlabel('The number of smile')\n",
    "plt.ylabel('The number of cry')\n",
    "plt.legend()\n",
    "plt.show()"
   ]
  },
  {
   "cell_type": "markdown",
   "metadata": {},
   "source": [
    "# \\[ 문제 \\]\n",
    "\n",
    "아래는 수업 중에 작성하였던 코드입니다. "
   ]
  },
  {
   "cell_type": "code",
   "execution_count": 19,
   "metadata": {},
   "outputs": [],
   "source": [
    "def classify_knn(inX, dataset, labels, K):\n",
    "    # (1) 우리가 분류항목을 알고자 하는 점 (inX)와 \n",
    "    # 알고 있는 점들(dataset)과의 모든 점 거리를 계산\n",
    "    dists = np.sqrt(np.sum((inX-dataset)**2, axis=1))\n",
    "    \n",
    "    # (2) 오름 차순으로 거리의 길이를 정렬\n",
    "    sorted_index = dists.argsort()\n",
    "    \n",
    "    # (3) inX와의 거리가 가장짧은 K개의 아이템 추출\n",
    "    sorted_labels = labels[sorted_index]\n",
    "    K_nearest_labels = sorted_labels[:K]\n",
    "    \n",
    "    # (4) K개의 아이템에서 가장 많은 분류 항목 찾기\n",
    "    _labels, count_labels = np.unique(K_nearest_labels,\n",
    "          return_counts=True)\n",
    "    \n",
    "    # (5) 해당 항목 반환\n",
    "    return _labels[count_labels.argmax()]"
   ]
  },
  {
   "cell_type": "markdown",
   "metadata": {},
   "source": [
    "우리는 배우의 웃는 횟수가 60번이고, 우는 횟수가 0번이었던 영화의 카테고리를 예측해보고자 합니다. "
   ]
  },
  {
   "cell_type": "code",
   "execution_count": 20,
   "metadata": {},
   "outputs": [
    {
     "data": {
      "image/png": "[encoded data removed]",
      "text/plain": [
       "<Figure size 432x288 with 1 Axes>"
      ]
     },
     "metadata": {},
     "output_type": "display_data"
    }
   ],
   "source": [
    "inX = np.array([60,0])\n",
    "\n",
    "plt.title(\"The Category of Movie\")\n",
    "plt.scatter(dataset[labels==\"comedy\",0],dataset[labels==\"comedy\",1],\n",
    "            label='comedy', c='g')\n",
    "plt.scatter(dataset[labels==\"drama\",0],dataset[labels==\"drama\",1],\n",
    "            label='drama', c='r')\n",
    "plt.scatter(inX[0],inX[1],label=\"?\",\n",
    "            c='b')\n",
    "\n",
    "\n",
    "\n",
    "plt.xlim(-10,140)\n",
    "plt.ylim(-10,40)\n",
    "\n",
    "plt.xlabel('The number of smile')\n",
    "plt.ylabel('The number of cry')\n",
    "plt.legend()\n",
    "plt.show()"
   ]
  },
  {
   "cell_type": "code",
   "execution_count": 21,
   "metadata": {},
   "outputs": [
    {
     "data": {
      "text/plain": [
       "'drama'"
      ]
     },
     "execution_count": 21,
     "metadata": {},
     "output_type": "execute_result"
    }
   ],
   "source": [
    "classify_knn(inX,dataset,labels,4)"
   ]
  },
  {
   "cell_type": "markdown",
   "metadata": {},
   "source": [
    "우는 횟수가 단 한번도 발생하지 않았지만, 이를 drama로 판단하는 잘못된 결과를 반환하였습니다. \n",
    "\n",
    "로맨스 영화의 특징 상, 배우가 웃는 횟수가 배우가 우는 횟수보다 훨씬 많이 일어납니다. 그래서 웃는 횟수의 값의 범위와 우는 횟수의 값의 범위가 매우 상이합니다. 각 Feature의 범위가 매우 다르기 때문입니다. "
   ]
  },
  {
   "cell_type": "markdown",
   "metadata": {},
   "source": [
    "이러한 문제를 해결하기 위해서는 어떤 식으로 KNN을 수정해야 할까요?"
   ]
  },
  {
   "cell_type": "markdown",
   "metadata": {},
   "source": [
    "-----"
   ]
  },
  {
   "cell_type": "code",
   "execution_count": 16,
   "metadata": {},
   "outputs": [],
   "source": [
    "def classify_knn(inX, dataset, labels, K):\n",
    "    min=np.min(dataset, axis=0)\n",
    "    max=np.max(dataset, axis=0)\n",
    "    nomalization_d=np.array((dataset-min)/(max-min))\n",
    "    nomalization=np.array((inX-min)/(max-min))\n",
    "    dists = np.sqrt(np.sum((nomalization-nomalization_d)**2, axis=1))\n",
    "    sorted_index = dists.argsort()\n",
    "    sorted_labels = labels[sorted_index]\n",
    "    K_nearest_labels = sorted_labels[:K]\n",
    "    _labels, count_labels = np.unique(K_nearest_labels,\n",
    "          return_counts=True)\n",
    "    return _labels[count_labels.argmax()]"
   ]
  },
  {
   "cell_type": "code",
   "execution_count": null,
   "metadata": {},
   "outputs": [],
   "source": [
    "inX = [60, 0]\n",
    "classify_knn(inX,dataset,labels,4)\n",
    "# 아래와 같은 결과가 나와야 합니다.\n",
    "# >>> COMEDY"
   ]
  },
  {
   "cell_type": "markdown",
   "metadata": {},
   "source": [
    "#  \n",
    "\n",
    "---\n",
    "\n",
    "    Copyright(c) 2019 by Public AI. All rights reserved.<br>\n",
    "    Writen by PAI, SangJae Kang ( rocketgrowthsj@publicai.co.kr )  last updated on 2019/03/04\n",
    "\n",
    "---"
   ]
  }
 ],
 "metadata": {
  "kernelspec": {
   "display_name": "Python 3",
   "language": "python",
   "name": "python3"
  },
  "language_info": {
   "codemirror_mode": {
    "name": "ipython",
    "version": 3
   },
   "file_extension": ".py",
   "mimetype": "text/x-python",
   "name": "python",
   "nbconvert_exporter": "python",
   "pygments_lexer": "ipython3",
   "version": "3.6.5"
  }
 },
 "nbformat": 4,
 "nbformat_minor": 2
}
