{
 "cells": [
  {
   "cell_type": "markdown",
   "metadata": {
    "colab_type": "text",
    "id": "JwXVP87OO6RW"
   },
   "source": [
    "<i><b>Public AI</b></i>\n",
    "<br>\n",
    "\n",
    "\n",
    "# Numpy을 활용하여 머신러닝 - K-Means 군집화\n",
    "\n",
    "### _Objective_\n",
    "\n",
    "*  **K-Means 알고리즘 개괄** : 대표적인 군집화 방법론 중 하나인 K-Means 알고리즘을 이해합니다.<br>\n",
    "*  **K-Means 알고리즘 구현** : K-Means 알고리즘을 Numpy로 구현해봅니다. <br>\n",
    "\n",
    "\n"
   ]
  },
  {
   "cell_type": "code",
   "execution_count": 2,
   "metadata": {
    "colab": {},
    "colab_type": "code",
    "id": "k-o8zDSkO6RZ"
   },
   "outputs": [],
   "source": [
    "%matplotlib inline\n",
    "import numpy as np\n",
    "import matplotlib.pyplot as plt"
   ]
  },
  {
   "cell_type": "markdown",
   "metadata": {
    "colab_type": "text",
    "id": "-xLXSgg4O6Rd"
   },
   "source": [
    "# \\[ 1. K-Means 알고리즘 개괄 \\]\n",
    "\n",
    "K-Means 알고리즘은 주어진 데이터를 K개의 클러스터로 묶는 '군집화 알고리즘' 중 하나로, 각 클러스터의 중심과 각 데이터 간의 거리 차이의 분산을 최소화하는 방식으로 데이터가 속할 군집을 묶어나갑니다.\n",
    "\n",
    "우선 예제 데이터를 준비합시다. "
   ]
  },
  {
   "cell_type": "markdown",
   "metadata": {},
   "source": [
    "예제 데이터를 시각화해봅시다. "
   ]
  },
  {
   "cell_type": "code",
   "execution_count": 3,
   "metadata": {},
   "outputs": [],
   "source": [
    "dataset = np.array([[ 1.658985,  4.285136],\n",
    "       [-3.453687,  3.424321],\n",
    "       [ 4.838138, -1.151539],\n",
    "       [-5.379713, -3.362104],\n",
    "       [ 0.972564,  2.924086],\n",
    "       [-3.567919,  1.531611],\n",
    "       [ 0.450614, -3.302219],\n",
    "       [-3.487105, -1.724432],\n",
    "       [ 2.668759,  1.594842],\n",
    "       [-3.156485,  3.191137],\n",
    "       [ 3.165506, -3.999838],\n",
    "       [-2.786837, -3.099354],\n",
    "       [ 4.208187,  2.984927],\n",
    "       [-2.123337,  2.943366],\n",
    "       [ 0.704199, -0.479481],\n",
    "       [-0.39237 , -3.963704],\n",
    "       [ 2.831667,  1.574018],\n",
    "       [-0.790153,  3.343144],\n",
    "       [ 2.943496, -3.357075],\n",
    "       [-3.195883, -2.283926],\n",
    "       [ 2.336445,  2.875106],\n",
    "       [-1.786345,  2.554248],\n",
    "       [ 2.190101, -1.90602 ],\n",
    "       [-3.403367, -2.778288],\n",
    "       [ 1.778124,  3.880832],\n",
    "       [-1.688346,  2.230267],\n",
    "       [ 2.592976, -2.054368],\n",
    "       [-4.007257, -3.207066],\n",
    "       [ 2.257734,  3.387564],\n",
    "       [-2.679011,  0.785119],\n",
    "       [ 0.939512, -4.023563],\n",
    "       [-3.674424, -2.261084],\n",
    "       [ 2.046259,  2.735279],\n",
    "       [-3.18947 ,  1.780269],\n",
    "       [ 4.372646, -0.822248],\n",
    "       [-2.579316, -3.497576],\n",
    "       [ 1.889034,  5.1904  ],\n",
    "       [-0.798747,  2.185588],\n",
    "       [ 2.83652 , -2.658556],\n",
    "       [-3.837877, -3.253815],\n",
    "       [ 2.096701,  3.886007],\n",
    "       [-2.709034,  2.923887],\n",
    "       [ 3.367037, -3.184789],\n",
    "       [-2.121479, -4.232586],\n",
    "       [ 2.329546,  3.179764],\n",
    "       [-3.284816,  3.273099],\n",
    "       [ 3.091414, -3.815232],\n",
    "       [-3.762093, -2.432191],\n",
    "       [ 3.542056,  2.778832],\n",
    "       [-1.736822,  4.241041],\n",
    "       [ 2.127073, -2.98368 ],\n",
    "       [-4.323818, -3.938116],\n",
    "       [ 3.792121,  5.135768],\n",
    "       [-4.786473,  3.358547],\n",
    "       [ 2.624081, -3.260715],\n",
    "       [-4.009299, -2.978115],\n",
    "       [ 2.493525,  1.96371 ],\n",
    "       [-2.513661,  2.642162],\n",
    "       [ 1.864375, -3.176309],\n",
    "       [-3.171184, -3.572452],\n",
    "       [ 2.89422 ,  2.489128],\n",
    "       [-2.562539,  2.884438],\n",
    "       [ 3.491078, -3.947487],\n",
    "       [-2.565729, -2.012114],\n",
    "       [ 3.332948,  3.983102],\n",
    "       [-1.616805,  3.573188],\n",
    "       [ 2.280615, -2.559444],\n",
    "       [-2.651229, -3.103198],\n",
    "       [ 2.321395,  3.154987],\n",
    "       [-1.685703,  2.939697],\n",
    "       [ 3.031012, -3.620252],\n",
    "       [-4.599622, -2.185829],\n",
    "       [ 4.196223,  1.126677],\n",
    "       [-2.133863,  3.093686],\n",
    "       [ 4.668892, -2.562705],\n",
    "       [-2.793241, -2.149706],\n",
    "       [ 2.884105,  3.043438],\n",
    "       [-2.967647,  2.848696],\n",
    "       [ 4.479332, -1.764772],\n",
    "       [-4.905566, -2.91107 ]])"
   ]
  },
  {
   "cell_type": "code",
   "execution_count": 4,
   "metadata": {
    "colab": {
     "base_uri": "https://localhost:8080/",
     "height": 33
    },
    "colab_type": "code",
    "executionInfo": {
     "elapsed": 570,
     "status": "ok",
     "timestamp": 1551671305980,
     "user": {
      "displayName": "최선열",
      "photoUrl": "",
      "userId": "00663027191814710813"
     },
     "user_tz": -540
    },
    "id": "kNGnWsIb0RBW",
    "outputId": "6a41bb2f-3c32-4c5c-f0ab-f83b7936fc19"
   },
   "outputs": [
    {
     "data": {
      "image/png": "[encoded data removed]",
      "text/plain": [
       "<Figure size 432x288 with 1 Axes>"
      ]
     },
     "metadata": {
      "needs_background": "light"
     },
     "output_type": "display_data"
    }
   ],
   "source": [
    "# 예제 데이터셋 시각화\n",
    "plt.title(\"The Distribution of Point\")\n",
    "plt.scatter(dataset[:,0],dataset[:,1])\n",
    "plt.show()"
   ]
  },
  {
   "cell_type": "markdown",
   "metadata": {},
   "source": [
    "위 산점도를 보면, 예제 데이터에는 크게 4개의 군집이 있음을 직관적으로 파악할 수 있습니다. 각 군집의 대략적인 중심을 잡아보면 아래와 같을 것입니다. "
   ]
  },
  {
   "cell_type": "code",
   "execution_count": 5,
   "metadata": {},
   "outputs": [
    {
     "data": {
      "image/png": "[encoded data removed]",
      "text/plain": [
       "<Figure size 432x288 with 1 Axes>"
      ]
     },
     "metadata": {
      "needs_background": "light"
     },
     "output_type": "display_data"
    }
   ],
   "source": [
    "# 예제 데이터셋 시각화\n",
    "plt.title(\"The Distribution of Point\")\n",
    "plt.scatter(dataset[:,0],dataset[:,1],label='dataset')\n",
    "plt.scatter([-3.5,-2,2.5,2.5],[-2.3,3.5,3.8,-2],\n",
    "            s=200, label=\"centroid\", marker='+')\n",
    "plt.legend()\n",
    "plt.show()"
   ]
  },
  {
   "cell_type": "markdown",
   "metadata": {},
   "source": [
    "위와 같이 군집을 묶어 주기 위해서는 4개의 중심을 잘 잡을 필요가 있습니다. **중심점과 데이터 간의 거리**를 구하고, 그 거리가 가장 작아지는 중심점을 찾도록, 중심점을 반복적으로 옮겨가는 과정을 K-Means 군집화라고 합니다.\n",
    "\n",
    "---"
   ]
  },
  {
   "cell_type": "markdown",
   "metadata": {
    "colab_type": "text",
    "id": "M1nhRjsbO6Rl"
   },
   "source": [
    "# \\[ 2.Numpy로  K-Means 구현하기 \\]\n",
    "\n",
    "K-means의 알고리즘의 순서는 다음과 같습니다: \n",
    "\n",
    "1. 초기 중심점을 설정하기 위해 K개의 점 임의 생성\n",
    "2. K개의 중심점과 각 데이터 사이의 거리 계산\n",
    "3. 각 데이터를 거리가 가장 가까운 군집으로 할당\n",
    "4. 각 군집 별 점들의 평균을 계산 후, 군집의 중심점을 다시 계산\n",
    "5. 2~4의 과정을 통해 각 데이터 별 군집이 바뀌지 않았으면, 이 과정을 끝냄\n",
    "\n",
    "각 단계를 Numpy로 구현하는 코드를 작성해본 후, 전체 코드를 합쳐보겠습니다. "
   ]
  },
  {
   "cell_type": "markdown",
   "metadata": {
    "colab_type": "text",
    "id": "ZCgp3cyUO6TD"
   },
   "source": [
    "## 1. 각 단계별로 Numpy Code 작성하기"
   ]
  },
  {
   "cell_type": "markdown",
   "metadata": {
    "colab": {},
    "colab_type": "code",
    "id": "VsLP4DiJO6TE",
    "outputId": "4ed8a800-ccc2-4f19-ae8a-222e91fc50a0"
   },
   "source": [
    "### (1) 초기 중심점을 설정하기 위해 K개의 점 임의 생성\n",
    "\n",
    "예제 데이터는두 개의 축으로 표현할 수 있는 데이터입니다. K-means 알고리즘은 데이터 공간에서 임의의 점 K개(여기선 4개)를 랜덤하게 산출하는 데서 시작됩니다. 임의로 산출한다고 하지만, 임의의 중심점 4개는 데이터 셋 부근에 있어야 합니다. 따라서 데이터셋의 범위를 파악하고 그 안에서 임의의 값을 뽑아 점 4개를 생성해보겠습니다."
   ]
  },
  {
   "cell_type": "markdown",
   "metadata": {},
   "source": [
    "Numpy의 `np.random`을 이용하면 데이터의 최소 최대값 범위 안에서 지정한 확률 분포에 따라 임의의 값을 추출할 수 있습니다. \n",
    "예를 들어 위 데이터셋에서 `axis=0`축 데이터의 범위 안의 수를 동일한 확률로 뽑고 싶다면, 확률 분포를 연속균등분포(`uniform`)으로 설정하고 샘플링을 하면 됩니다. "
   ]
  },
  {
   "cell_type": "markdown",
   "metadata": {},
   "source": [
    "위와 같은 방법으로 `axis=0`축과 `axis=1`축 각각 범위 내 랜덤한 값 K개를 산출합니다.   \n",
    "`numpy.uniform` function을 사용합니다. "
   ]
  },
  {
   "cell_type": "code",
   "execution_count": 9,
   "metadata": {},
   "outputs": [],
   "source": [
    "center_x = np.random.uniform(np.min(dataset[:,0]),np.max(dataset[:,0]),4) \n",
    "center_y = np.random.uniform(np.min(dataset[:,1]),np.max(dataset[:,1]),4) \n",
    "centroids = np.stack([center_x,center_y],axis=-1)"
   ]
  },
  {
   "cell_type": "markdown",
   "metadata": {},
   "source": [
    "위와 같이 랜덤으로 산출한 중심점은 아래와 같이 산재해 있습니다.  \n",
    "(⚠️ centroid 값이 랜덤이기 때문에 아래와 같은 그림이 나오지 않아도 괜찮습니다!)"
   ]
  },
  {
   "cell_type": "code",
   "execution_count": 11,
   "metadata": {},
   "outputs": [
    {
     "data": {
      "image/png": "[encoded data removed]",
      "text/plain": [
       "<Figure size 432x288 with 1 Axes>"
      ]
     },
     "metadata": {},
     "output_type": "display_data"
    }
   ],
   "source": [
    "# 예제 데이터셋 시각화\n",
    "\n",
    "plt.title(\"The Distribution of Point\")\n",
    "plt.scatter(dataset[:,0],dataset[:,1],label='dataset')\n",
    "plt.scatter(centroids[:,0],centroids[:,1],\n",
    "            s=200, label=\"centroid\", marker='+')\n",
    "plt.legend()\n",
    "plt.show()"
   ]
  },
  {
   "cell_type": "markdown",
   "metadata": {},
   "source": [
    "### (2) 중심점과 각 데이터 사이의 거리를 계산\n",
    "\n",
    "거리 공식은 KNN 때와 마찬가지로, 아래와 같습니다. 우리는 모든 중심점과 각 데이터 간 거리를 구해야 합니다.  \n",
    "**Numpy Code의 reshape와 broadcasting을 활용하면 간결하게 나타낼 수 있습니다.** \n",
    "\n",
    "$$\n",
    "point1 = (x_1,y_1), point2 = (x_2,y_2)\\mbox{일 때}\\\\\n",
    "distance\\_between\\_point1\\_and\\_point2 = \\sqrt{(x_1-x_2)^2 + (y_1-y_2)^2}\n",
    "$$"
   ]
  },
  {
   "cell_type": "code",
   "execution_count": 6,
   "metadata": {
    "collapsed": true
   },
   "outputs": [
    {
     "ename": "SyntaxError",
     "evalue": "invalid syntax (<ipython-input-6-bb28c82694d4>, line 1)",
     "output_type": "error",
     "traceback": [
      "\u001b[0;36m  File \u001b[0;32m\"<ipython-input-6-bb28c82694d4>\"\u001b[0;36m, line \u001b[0;32m1\u001b[0m\n\u001b[0;31m    diff_mat = ## fix me ##\u001b[0m\n\u001b[0m                            ^\u001b[0m\n\u001b[0;31mSyntaxError\u001b[0m\u001b[0;31m:\u001b[0m invalid syntax\n"
     ]
    }
   ],
   "source": [
    "## numpy broadcasting 을 활용해 코드 한줄로 모든 centroids 와 모든 데이터간 거리를 계산하세요. \n",
    "dists = ((np.reshape(centroids[:,0],(4,1))-np.reshape(dataset[:,0],(1,80)))**2+(np.reshape(centroids[:,1],(4,1))-np.reshape(dataset[:,1],(1,80)))**2)**(1/2)"
   ]
  },
  {
   "cell_type": "code",
   "execution_count": 13,
   "metadata": {},
   "outputs": [
    {
     "data": {
      "text/plain": [
       "(4, 80)"
      ]
     },
     "execution_count": 13,
     "metadata": {},
     "output_type": "execute_result"
    }
   ],
   "source": [
    "dists.shape # dists 행렬의 형태"
   ]
  },
  {
   "cell_type": "markdown",
   "metadata": {},
   "source": [
    "### (3) 각 데이터를 거리가 가장 가까운 군집으로 할당\n",
    "\n",
    "각 데이터를 거리가 가장 가까운 군집으로 할당 하기 위해서는, `np.argmin`을 통해 간단히 구할 수 있습니다."
   ]
  },
  {
   "cell_type": "code",
   "execution_count": 16,
   "metadata": {},
   "outputs": [
    {
     "data": {
      "text/plain": [
       "array([0, 2, 3, 0, 0, 0, 3, 0, 3, 0, 3, 3, 3, 0, 3, 3, 3, 0, 3, 0, 0, 0,\n",
       "       3, 0, 0, 0, 3, 0, 0, 0, 3, 0, 0, 0, 3, 3, 2, 0, 3, 0, 0, 0, 3, 3,\n",
       "       0, 0, 3, 0, 3, 2, 3, 0, 2, 1, 3, 0, 3, 0, 3, 3, 3, 0, 3, 0, 0, 0,\n",
       "       3, 3, 0, 0, 3, 0, 3, 0, 3, 0, 3, 0, 3, 0], dtype=int64)"
      ]
     },
     "execution_count": 16,
     "metadata": {},
     "output_type": "execute_result"
    }
   ],
   "source": [
    "cluster_per_point = np.argmin(dists, axis=0) "
   ]
  },
  {
   "cell_type": "markdown",
   "metadata": {},
   "source": [
    "각 점에서 가장 가까운 중심점의 index를 위와 같은 방식으로 산출할 수 있습니다.\n"
   ]
  },
  {
   "cell_type": "markdown",
   "metadata": {},
   "source": [
    "### (4) 각 군집 별 점들의 평균을 계산 후, 군집의 중심점을 다시 계산\n",
    "```\n",
    "X = [3, 4, 5, 6]\n",
    "cluster_index = [1, 1, 0 ,0]\n",
    "\n",
    "각 군집에 해당하는 데이터들을 가져온 후 평균을 수행합니다. \n",
    "cluster_index 가 1 인 데이터만 가져와 평균을 수행 \n",
    "(3 + 4) / 2\n",
    "\n",
    "cluster_index 가 0 인 데이터만 가져와 평균을 수행 \n",
    "(5 + 6) / 2\n",
    "```\n",
    "\n"
   ]
  },
  {
   "cell_type": "code",
   "execution_count": 17,
   "metadata": {},
   "outputs": [],
   "source": [
    "# 각 군집별로 순회\n",
    "for i in range(k):\n",
    "    \n",
    "    # 각 군집에 해당하는 데이터들을 가져옵니다. \n",
    "    target_point = np.array(dataset[np.where(cluster_per_point==i)]) \n",
    "    \n",
    "    # 각 군집의 평균을 계산해 centroids 에 할당 합니다. \n",
    "    centroids[i] = target_point.mean(axis=0)"
   ]
  },
  {
   "cell_type": "markdown",
   "metadata": {},
   "source": [
    "### (5) 2~4의 과정을 통해 각 데이터 별 군집이 바뀌지 않았으면, 이 과정을 끝냄\n",
    " - 해당 과정은 위에서 작성해 놓은 코드를 활용해야 합니다. "
   ]
  },
  {
   "cell_type": "code",
   "execution_count": 18,
   "metadata": {
    "scrolled": false
   },
   "outputs": [
    {
     "data": {
      "image/png": "[encoded data removed]",
      "text/plain": [
       "<Figure size 432x288 with 1 Axes>"
      ]
     },
     "metadata": {},
     "output_type": "display_data"
    },
    {
     "data": {
      "image/png": "[encoded data removed]",
      "text/plain": [
       "<Figure size 432x288 with 1 Axes>"
      ]
     },
     "metadata": {},
     "output_type": "display_data"
    },
    {
     "data": {
      "image/png": "[encoded data removed]",
      "text/plain": [
       "<Figure size 432x288 with 1 Axes>"
      ]
     },
     "metadata": {},
     "output_type": "display_data"
    }
   ],
   "source": [
    "num_data = dataset.shape[0]\n",
    "\n",
    "cluster_per_point = np.ones((num_data))\n",
    "\n",
    "counter = 0\n",
    "\n",
    "center_x = np.random.uniform(np.min(dataset[:,0]),np.max(dataset[:,0]),4)\n",
    "center_y = np.random.uniform(np.min(dataset[:,1]),np.max(dataset[:,1]),4)\n",
    "centroids = np.stack([center_x,center_y],axis=-1)\n",
    "\n",
    "while True:\n",
    "    prev_cluster_per_point = cluster_per_point\n",
    "    \n",
    "    # (2) 중심점과 각 데이터 사이의 거리를 계산\n",
    "    dists = ((np.reshape(centroids[:,0],(4,1))-np.reshape(dataset[:,0],(1,80)))**2+(np.reshape(centroids[:,1],(4,1))-np.reshape(dataset[:,1],(1,80)))**2)**(1/2)\n",
    "    \n",
    "    # (3) 각 데이터를 거리가 가장 가까운 군집으로 할당\n",
    "    cluster_per_point = np.argmin(dists, axis=0)\n",
    "\n",
    "    # (4) 각 군집 별 점들의 평균을 계산 후, 군집의 중심점을 다시 계산\n",
    "    k = 4\n",
    "    for i in range(k):\n",
    "      target_point = np.array(dataset[np.where(cluster_per_point==i)])\n",
    "      centroids[i] = target_point.mean(axis=0)\n",
    "    \n",
    "    ## (5) cluster 값이 변하지 않으면 while 구문을 종료(np.all 구문 사용)\n",
    "    if np.all(prev_cluster_per_point == cluster_per_point)::\n",
    "        break\n",
    "        \n",
    "    # 시각화 코드 \n",
    "    counter += 1\n",
    "    plt.title(\"{}th Distribution of Dataset\".format(counter))\n",
    "    for idx, color in enumerate(['r','g','b','y']):\n",
    "        mask = (cluster_per_point==idx)\n",
    "        plt.scatter(dataset[mask,0],dataset[mask,1],\n",
    "                    label='dataset', c=color)\n",
    "        plt.scatter(centroids[:,0],centroids[:,1],\n",
    "                    s=200, label=\"centroid\", marker='+')\n",
    "    plt.show()"
   ]
  },
  {
   "cell_type": "markdown",
   "metadata": {},
   "source": [
    "## 2. 전체 Numpy Code 작성하기\n",
    " - 위에서 작성한 코드를 하나로 묶어 function 으로 생성합니다. "
   ]
  },
  {
   "cell_type": "code",
   "execution_count": 19,
   "metadata": {},
   "outputs": [],
   "source": [
    "def cluster_kmeans(dataset, k):    \n",
    "    num_data = dataset.shape[0]\n",
    "    \n",
    "    cluster_per_point = np.ones((num_data))\n",
    "    \n",
    "    counter = 0\n",
    "    \n",
    "    center_x = np.random.uniform(np.min(dataset[:,0]),np.max(dataset[:,0]),4)\n",
    "    center_y = np.random.uniform(np.min(dataset[:,1]),np.max(dataset[:,1]),4)\n",
    "    centroids = np.stack([center_x,center_y],axis=-1)\n",
    "    \n",
    "    ## fix ## \n",
    "    ## fix ## \n",
    "    ## fix ## \n",
    "    ## fix ## \n",
    "    ## fix ## \n",
    "    ## fix ## \n",
    "    ## fix ## \n",
    "    ## fix ## \n",
    "    ## fix ## \n",
    "    ## fix ## \n",
    "    ## fix ## \n",
    "    ## fix ## \n",
    "    ## fix ## \n",
    "    ## fix ## \n",
    "    ## fix ## \n",
    "    ## fix ## \n",
    "    ## fix ## \n",
    "    ## fix ## \n",
    "    ## fix ## \n",
    "    ## fix ## \n",
    "    ## fix ## \n",
    "    ## fix ## \n",
    "    ## fix ## \n",
    "    ## fix ## \n",
    "    ## fix ## \n",
    "    return centroids"
   ]
  },
  {
   "cell_type": "code",
   "execution_count": 20,
   "metadata": {},
   "outputs": [
    {
     "data": {
      "image/png": "[encoded data removed]",
      "text/plain": [
       "<Figure size 432x288 with 1 Axes>"
      ]
     },
     "metadata": {},
     "output_type": "display_data"
    },
    {
     "data": {
      "image/png": "[encoded data removed]",
      "text/plain": [
       "<Figure size 432x288 with 1 Axes>"
      ]
     },
     "metadata": {},
     "output_type": "display_data"
    },
    {
     "data": {
      "image/png": "[encoded data removed]",
      "text/plain": [
       "<Figure size 432x288 with 1 Axes>"
      ]
     },
     "metadata": {},
     "output_type": "display_data"
    },
    {
     "data": {
      "image/png": "[encoded data removed]",
      "text/plain": [
       "<Figure size 432x288 with 1 Axes>"
      ]
     },
     "metadata": {},
     "output_type": "display_data"
    },
    {
     "data": {
      "image/png": "[encoded data removed]",
      "text/plain": [
       "<Figure size 432x288 with 1 Axes>"
      ]
     },
     "metadata": {},
     "output_type": "display_data"
    },
    {
     "data": {
      "image/png": "[encoded data removed]",
      "text/plain": [
       "<Figure size 432x288 with 1 Axes>"
      ]
     },
     "metadata": {},
     "output_type": "display_data"
    },
    {
     "data": {
      "text/plain": [
       "array([[ 2.6265299 ,  3.10868015],\n",
       "       [ 2.80293085, -2.7315146 ],\n",
       "       [-3.38237045, -2.9473363 ],\n",
       "       [-2.46154315,  2.78737555]])"
      ]
     },
     "execution_count": 20,
     "metadata": {},
     "output_type": "execute_result"
    }
   ],
   "source": [
    "cluster_kmeans(dataset,4)"
   ]
  },
  {
   "cell_type": "markdown",
   "metadata": {
    "colab_type": "text",
    "id": "sqE9TAC1O6UF"
   },
   "source": [
    "#  \n",
    "\n",
    "---\n",
    "\n",
    "    Copyright(c) 2019 by Public AI. All rights reserved.<br>\n",
    "    Writen by PAI (info@publicai.co.kr)  last updated on 2019/03/04\n",
    "\n",
    "---"
   ]
  }
 ],
 "metadata": {
  "colab": {
   "collapsed_sections": [
    "34r66vr2O6Re",
    "UvPQnmcgyKzr",
    "F_ac_F0QO6Rm",
    "KVPGifrHO6Rs",
    "w0DhJX6fO6Rw",
    "GR30sa9BO6R1",
    "h3-sxdSFO6R-",
    "l2xZeidfO6SM",
    "_cqP61PsO6Sf",
    "Jji3drmvO6Sw",
    "ZCgp3cyUO6TD",
    "4swWHPVWO6Tm"
   ],
   "name": "5_Numpy의 주요함수들(2).ipynb",
   "provenance": [],
   "toc_visible": true,
   "version": "0.3.2"
  },
  "kernelspec": {
   "display_name": "Python 3",
   "language": "python",
   "name": "python3"
  },
  "language_info": {
   "codemirror_mode": {
    "name": "ipython",
    "version": 3
   },
   "file_extension": ".py",
   "mimetype": "text/x-python",
   "name": "python",
   "nbconvert_exporter": "python",
   "pygments_lexer": "ipython3",
   "version": "3.6.9"
  },
  "toc": {
   "base_numbering": 1,
   "nav_menu": {},
   "number_sections": false,
   "sideBar": true,
   "skip_h1_title": false,
   "title_cell": "Table of Contents",
   "title_sidebar": "Contents",
   "toc_cell": false,
   "toc_position": {},
   "toc_section_display": true,
   "toc_window_display": false
  },
  "varInspector": {
   "cols": {
    "lenName": 16,
    "lenType": 16,
    "lenVar": 40
   },
   "kernels_config": {
    "python": {
     "delete_cmd_postfix": "",
     "delete_cmd_prefix": "del ",
     "library": "var_list.py",
     "varRefreshCmd": "print(var_dic_list())"
    },
    "r": {
     "delete_cmd_postfix": ") ",
     "delete_cmd_prefix": "rm(",
     "library": "var_list.r",
     "varRefreshCmd": "cat(var_dic_list()) "
    }
   },
   "types_to_exclude": [
    "module",
    "function",
    "builtin_function_or_method",
    "instance",
    "_Feature"
   ],
   "window_display": false
  }
 },
 "nbformat": 4,
 "nbformat_minor": 2
}
